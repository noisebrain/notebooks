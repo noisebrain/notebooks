{
 "cells": [
  {
   "cell_type": "markdown",
   "metadata": {},
   "source": [
    "## Estimate Posterior using MCMC\n",
    "study group tutorial 16jan19 / jplewis"
   ]
  },
  {
   "cell_type": "code",
   "execution_count": 9,
   "metadata": {},
   "outputs": [
    {
     "data": {
      "text/plain": [
       "PyPlot"
      ]
     },
     "execution_count": 9,
     "metadata": {},
     "output_type": "execute_result"
    }
   ],
   "source": [
    "using PyPlot\n",
    "p_ = PyPlot"
   ]
  },
  {
   "cell_type": "markdown",
   "metadata": {},
   "source": [
    "### test out Distributions package"
   ]
  },
  {
   "cell_type": "code",
   "execution_count": 10,
   "metadata": {},
   "outputs": [
    {
     "name": "stderr",
     "output_type": "stream",
     "text": [
      "WARNING: using Distributions.loglikelihood in module Main conflicts with an existing identifier.\n"
     ]
    },
    {
     "data": {
      "text/plain": [
       "(0.044318484119380115, 0.044318484119380115)"
      ]
     },
     "execution_count": 10,
     "metadata": {},
     "output_type": "execute_result"
    }
   ],
   "source": [
    "using Distributions\n",
    "normal = Distributions.Normal(0., 1.0 )\n",
    "Distributions.pdf(normal,1.5)\n",
    "noisesigma = 0.1\n",
    "noise = Distributions.Normal(0., noisesigma)\n",
    "gaussian(val,μ,σ) = (1. /sqrt(2. * π * σ^2 )) * exp( - (val-μ)^2 / (2. * σ^2))\n",
    "(gaussian(2.3,0,noisesigma), Distributions.pdf(noise,2.3))\n",
    "(gaussian(-0.3,0,noisesigma), Distributions.pdf(noise,-0.3))   # same"
   ]
  },
  {
   "cell_type": "markdown",
   "metadata": {},
   "source": [
    "### model\n",
    "\n",
    "A,B ~ N(0,1)\n",
    "\n",
    "$y = A x + B + \\epsilon$"
   ]
  },
  {
   "cell_type": "markdown",
   "metadata": {},
   "source": [
    "### true parameter values"
   ]
  },
  {
   "cell_type": "code",
   "execution_count": 16,
   "metadata": {},
   "outputs": [
    {
     "data": {
      "text/plain": [
       "(-0.6712765616772629, -0.14603001704769042)"
      ]
     },
     "execution_count": 16,
     "metadata": {},
     "output_type": "execute_result"
    }
   ],
   "source": [
    "N = 5  # data points\n",
    "A = randn()\n",
    "B = randn()\n",
    "(A,B)"
   ]
  },
  {
   "cell_type": "markdown",
   "metadata": {},
   "source": [
    "### Generate sample data"
   ]
  },
  {
   "cell_type": "code",
   "execution_count": 17,
   "metadata": {
    "scrolled": true
   },
   "outputs": [
    {
     "data": {
      "text/plain": [
       "5-element Array{Float64,1}:\n",
       "  1.4419528830708923 \n",
       "  1.3481759747319904 \n",
       " -1.8216983358841983 \n",
       "  0.21393419323847113\n",
       " -0.7733298943204574 "
      ]
     },
     "execution_count": 17,
     "metadata": {},
     "output_type": "execute_result"
    }
   ],
   "source": [
    "ϵ = noisesigma * randn(N,)   # todo use Distributions package sample\n",
    "x = 2. * randn(N,)\n",
    "y = A * x .+ B .+ ϵ"
   ]
  },
  {
   "cell_type": "code",
   "execution_count": 18,
   "metadata": {
    "scrolled": true
   },
   "outputs": [
    {
     "data": {
      "image/png": "[encoded data removed]",
      "text/plain": [
       "Figure(PyObject <Figure size 640x480 with 1 Axes>)"
      ]
     },
     "metadata": {},
     "output_type": "display_data"
    },
    {
     "data": {
      "text/plain": [
       "1-element Array{PyCall.PyObject,1}:\n",
       " PyObject <matplotlib.lines.Line2D object at 0x146125f28>"
      ]
     },
     "execution_count": 18,
     "metadata": {},
     "output_type": "execute_result"
    }
   ],
   "source": [
    "p_.plot(x,y,\"go\")"
   ]
  },
  {
   "cell_type": "markdown",
   "metadata": {},
   "source": [
    "### Note likelihood (and improper prior) cancel\n",
    "$$\n",
    "    p(M|D) = \\frac{ p(D|M) p(M)   }{ p(D)  } = \\frac{ p(D|M) p(M)   }{ \\int p(D|M) p(M) \\, dM   }\n",
    "$$"
   ]
  },
  {
   "cell_type": "markdown",
   "metadata": {},
   "source": [
    "\\begin{align*}\n",
    "P(\\theta|y,x) &= \\frac{P(\\theta,y,x)}{ P(y,x) }\n",
    "\\\\\n",
    "    &= \\frac{ P(y|x,\\theta) P(x|\\theta) P(\\theta) }{ P(y|x) P(x)  }\n",
    "\\\\\n",
    "    P(x|\\theta) = P(x) \\quad\\text{and cancel}  &\n",
    "\\\\\n",
    "    &=  \\frac{ P(y|x,\\theta) P(\\theta) }{ P(y|x) }\n",
    "\\\\\n",
    "\\end{align*}"
   ]
  },
  {
   "cell_type": "markdown",
   "metadata": {},
   "source": [
    "Posterior odds\n",
    "\n",
    "\\begin{align*}\n",
    "   \\frac{ P(\\theta_1|y,x) }{ P(\\theta|y,x) } &=   \\frac{ \\frac{ P(y|x,\\theta_1) P(\\theta_1) }{ P(y|x) } }{ \\frac{ P(y|x,\\theta) P(\\theta) }{ P(y|x) } }     \\quad=\\quad  \\frac{ P(y|x,\\theta_1) P(\\theta_1) }{  P(y|x,\\theta) P(\\theta)  }\n",
    "\\end{align*}"
   ]
  },
  {
   "cell_type": "markdown",
   "metadata": {},
   "source": [
    "$$\n",
    "P(y|x,\\theta) = \\prod \\frac{1}{\\sqrt 2 \\pi \\sigma^2} \\exp(- |y_i - (a x_i + b)|^2 / (2 \\sigma^2) \n",
    "$$\n",
    "\n",
    "log likelihood = \n",
    "\n",
    "$$ \n",
    "-\\frac{N}{2}\\log(2 \\pi \\sigma^2) \\quad-\\quad  \\left( \\sum |y_i - (a x_i + b)|^2 / (2\\sigma^2) \\right) \n",
    "$$\n",
    "\n",
    "(details)\n",
    "\n",
    "\\begin{align*}\n",
    "&   \\log \\frac{1}{\\sqrt{2 \\pi \\sigma^2}}\n",
    "\\\\\n",
    "&= \\log 1  - \\log ( 2 \\pi \\sigma^2 )^{1/2}\n",
    " \\\\\n",
    "&=   0  - \\frac{1}{2} \\log{ 2 \\pi \\sigma^2}\n",
    "\\end{align*}"
   ]
  },
  {
   "cell_type": "code",
   "execution_count": 1,
   "metadata": {},
   "outputs": [
    {
     "data": {
      "text/plain": [
       "loglikelihood (generic function with 1 method)"
      ]
     },
     "execution_count": 1,
     "metadata": {},
     "output_type": "execute_result"
    }
   ],
   "source": [
    "function loglikelihood(a,b)\n",
    "    noisesigma2 = noisesigma*noisesigma\n",
    "    ll = 0.\n",
    "    for ipt = 1:N\n",
    "        #print(\"  datapoint $ipt \")\n",
    "        err = y[ipt] - (a*x[ipt]+b)\n",
    "        peval = err*err / (2*noisesigma2)\n",
    "        #print(\" p0eval=\",peval)\n",
    "        ll -= peval\n",
    "    end \n",
    "    ll -= (N/2.)*log(2*π*noisesigma2)\n",
    "    ll\n",
    "end"
   ]
  },
  {
   "cell_type": "code",
   "execution_count": 22,
   "metadata": {},
   "outputs": [
    {
     "data": {
      "text/plain": [
       "logposterior (generic function with 1 method)"
      ]
     },
     "execution_count": 22,
     "metadata": {},
     "output_type": "execute_result"
    }
   ],
   "source": [
    "function logposterior(a,b)\n",
    "    useprior = false   # else improper/flat prior\n",
    "    prior = 0.\n",
    "    if useprior\n",
    "        prior -= Distributions.pdf(normal,a)\n",
    "        prior -= Distributions.pdf(normal,b)\n",
    "    end\n",
    "    prior + loglikelihood(a,b)\n",
    "end"
   ]
  },
  {
   "cell_type": "markdown",
   "metadata": {},
   "source": [
    "Stopping test, log version\n",
    "\n",
    "$$\n",
    "\\frac{ \\exp(n)}{\\exp(d)} > 1  \\quad\\rightarrow\\quad   n - d > 0 \n",
    "$$"
   ]
  },
  {
   "cell_type": "code",
   "execution_count": 23,
   "metadata": {},
   "outputs": [
    {
     "data": {
      "text/plain": [
       "mcmc1logposterior (generic function with 1 method)"
      ]
     },
     "execution_count": 23,
     "metadata": {},
     "output_type": "execute_result"
    }
   ],
   "source": [
    "function mcmc1logposterior(a,b)\n",
    "    println(\"mcmc1logposterior initial $a $b\")\n",
    "    \n",
    "    logposterior0 = logposterior(a,b)\n",
    "    \n",
    "    for mciter = 1:100\n",
    "        if ((mciter%10)==0) println(\"  mciter $mciter\")  end\n",
    "        a_ = a + 0.5 * randn()\n",
    "        b_ = b + 0.5 * randn()       # new proposal\n",
    "        \n",
    "        logposterior1 = logposterior(a_,b_)\n",
    "        \n",
    "        #println(\"logp1 $logposterior1,   logp0 $logposterior0\")\n",
    "\n",
    "        p = exp(logposterior1) / exp(logposterior0)\n",
    "        if (rand() < p)\n",
    "            println(\"\\nsuccess $a_, $b_\")\n",
    "            return (a_,b_)\n",
    "        else\n",
    "            print(\".\")\n",
    "        end   \n",
    "    end\n",
    "    println(\"\")\n",
    "    return (a,b)\n",
    "end"
   ]
  },
  {
   "cell_type": "code",
   "execution_count": 24,
   "metadata": {},
   "outputs": [
    {
     "data": {
      "text/plain": [
       "warmup (generic function with 1 method)"
      ]
     },
     "execution_count": 24,
     "metadata": {},
     "output_type": "execute_result"
    }
   ],
   "source": [
    "function warmup(a,b) \n",
    "    for iter = 1:1000 \n",
    "        if ((iter%10)==0) println(\"iter $iter\")  end\n",
    "        a,b = mcmc1logposterior(a,b)   \n",
    "    end\n",
    "    return (a,b)\n",
    "end                # warmup\n"
   ]
  },
  {
   "cell_type": "code",
   "execution_count": 25,
   "metadata": {},
   "outputs": [
    {
     "data": {
      "text/plain": [
       "mcmcline (generic function with 1 method)"
      ]
     },
     "execution_count": 25,
     "metadata": {},
     "output_type": "execute_result"
    }
   ],
   "source": [
    "function mcmcline(a,b)\n",
    "    aavg, bavg = (0.,0.)\n",
    "    Niter = 100000\n",
    "    for iter = 1:Niter \n",
    "        if ((iter%10)==0) println(\"iter $iter\")  end\n",
    "        a,b = mcmc1logposterior(a,b)   \n",
    "        aavg += a\n",
    "        bavg += b\n",
    "    end\n",
    "    aavg /= float(Niter)\n",
    "    bavg /= float(Niter)\n",
    "    return (aavg,bavg)\n",
    "end"
   ]
  },
  {
   "cell_type": "code",
   "execution_count": null,
   "metadata": {},
   "outputs": [],
   "source": [
    "# initial posterior estimate\n",
    "a_, b_ = 0.,0.\n",
    "\n",
    "a_, b_ = warmup(a_,b_)\n",
    "aest, best = mcmcline(a_,b_)\n",
    "\n",
    "print(\"estimate $aest, $best,   true $A, $B\")"
   ]
  },
  {
   "cell_type": "code",
   "execution_count": 28,
   "metadata": {},
   "outputs": [
    {
     "data": {
      "image/png": "[encoded data removed]",
      "text/plain": [
       "Figure(PyObject <Figure size 640x480 with 1 Axes>)"
      ]
     },
     "metadata": {},
     "output_type": "display_data"
    },
    {
     "data": {
      "text/plain": [
       "1-element Array{PyCall.PyObject,1}:\n",
       " PyObject <matplotlib.lines.Line2D object at 0x1467ec908>"
      ]
     },
     "execution_count": 28,
     "metadata": {},
     "output_type": "execute_result"
    }
   ],
   "source": [
    "xx = [-2., 2.]\n",
    "yy = aest .* xx .+ best\n",
    "p_.plot(xx,yy,\"r-\")\n",
    "p_.plot(x,y,\"go\")"
   ]
  }
 ],
 "metadata": {
  "kernelspec": {
   "display_name": "Julia 0.7.0",
   "language": "julia",
   "name": "julia-0.7"
  },
  "language_info": {
   "file_extension": ".jl",
   "mimetype": "application/julia",
   "name": "julia",
   "version": "0.7.0"
  }
 },
 "nbformat": 4,
 "nbformat_minor": 2
}
