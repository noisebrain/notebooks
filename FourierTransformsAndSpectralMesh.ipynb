{
 "cells": [
  {
   "cell_type": "markdown",
   "metadata": {},
   "source": [
    "## Spectral Graph blah related to Fourier Transforms\n",
    "##### jp lewis"
   ]
  },
  {
   "cell_type": "markdown",
   "metadata": {},
   "source": [
    "- Fourier transform:  represent, process signal in terms of *sin, cos basis fuctions* \n",
    "(equivalently, complex exponential via $\\exp(i x) = \\cos(x) + i \\sin(x)$.\n",
    "- Spectral graph theory: represent, process graph using *eigenvectors of the graph Laplacian*.  E.g. implement convolution on meshes.\n",
    "\n",
    "- $\\color{red}{\\text{How are these related?}}$\n"
   ]
  },
  {
   "cell_type": "markdown",
   "metadata": {},
   "source": [
    "### Why Fourier transform for convolution\n",
    "- $O(N \\log N)$ vs $O(N^2)$ in 1D\n",
    "- \"Diagonalization\". Fourier basis diagonalizes circulant matrices (more below)\n",
    "\n",
    "$$\n",
    "   y = C x  = (F \\Lambda F^T) x = F \\, \\Lambda \\, (F^T x)\n",
    "$$"
   ]
  },
  {
   "cell_type": "markdown",
   "metadata": {},
   "source": [
    "Fourier transform: represent signal as $f(t) = \\int_{-\\infty}^{\\infty} F(\\omega) \\, \\exp(2 \\pi i \\omega t) \\, d\\omega$\n",
    "\n",
    "Or discrete form $f[t]= \\sum_{w=0}^n F[w].r*cos(2\\pi*w*t) + F[w].i*sin(2\\pi*w*t)$\n",
    "\n",
    "(mixed notation, x,t normalized)\n",
    "\n",
    "cos, sin are an orthogonal basis. C.f. cartesian coordinates"
   ]
  },
  {
   "cell_type": "markdown",
   "metadata": {},
   "source": [
    "![fourierbasis](laplacespectrum1d.png \"fourier basis functions...\")"
   ]
  },
  {
   "cell_type": "markdown",
   "metadata": {},
   "source": [
    "### $\\color{red}{\\text{$\\sin,\\cos$ are the eigenvectors of the laplacian in 1D}}$\n",
    "\n",
    "mnemonic for eigenvector"
   ]
  },
  {
   "cell_type": "markdown",
   "metadata": {},
   "source": [
    "- Laplacian (2D, etc):  $\\nabla^2 f = \\frac{\\partial^2 f}{\\partial x^2} + \\frac{\\partial^2 f}{\\partial y^2}$\n",
    "\n",
    "- Laplacian in 1D: $\\color{red}{\\text{the second derivative.}}$"
   ]
  },
  {
   "cell_type": "markdown",
   "metadata": {},
   "source": [
    "### Demonstration\n",
    "\n",
    "- Approximate second derivative with finite difference \n",
    "$$\n",
    "   f''(x) \\approx \\frac{ f(x+h) - 2 f(x) + f(x-h) }{h^2}\n",
    "$$\n",
    "\n",
    "- Choose $h=1$ for convenience. It won't affect the eigenvector calculation.\n",
    "\n",
    "- represent as an inner product with a (1,-2,1) \"stencil\":  $(1,-2,1) \\cdot (f[x+1], f[x], f[x-1])$\n",
    "\n",
    "Encode all the second derivatives in a single \"operator\" matrix, Toeplitz like\n",
    "(note this does not render online in nbviewer.org, but looks correct on local Jupyter)\n",
    "$$ L f  \\propto\n",
    "   \\left[\n",
    "    \\begin{array}{cccccc}\n",
    "\t -1 & 1  &     &   &   &\t\t\\\\\n",
    "\t 1  & -2 & 1   &    &  &\t\t\\\\\n",
    "\t    &  1 & -2  & 1  &   & \t\t\\\\\n",
    "\t   &    & 1   & -2 & 1\\cdots &\t\t\\\\\n",
    "\t    &   &     & 1  & -2  &  1\t\t\\\\\n",
    "\t    &    &    & \\cdots  &  &  \t\\\\\n",
    "    \\end{array} \n",
    "  \\right]\n",
    "  \\left[ \\begin{array}{c} f[1] \\\\ f[2] \\\\ f[3] \\\\ \\vdots \\end{array} \\right]\n",
    "$$\n",
    "- Detail: strictly, sin,cos are eigenvectors of *circulant* matrix. If matrix is large, relatively small difference from Toeplitz.\n",
    "\n"
   ]
  },
  {
   "cell_type": "code",
   "execution_count": 1,
   "metadata": {
    "collapsed": true
   },
   "outputs": [],
   "source": [
    "import sys\n",
    "import numpy as n_\n",
    "import scipy.sparse as sparse\n",
    "import scipy.sparse.linalg as sl\n",
    "import matplotlib.pyplot as p_"
   ]
  },
  {
   "cell_type": "markdown",
   "metadata": {},
   "source": [
    "### make the 2nd finiite difference aka graph laplacian matrix"
   ]
  },
  {
   "cell_type": "code",
   "execution_count": 2,
   "metadata": {
    "collapsed": true
   },
   "outputs": [],
   "source": [
    "# make the matrix\n",
    "N = 50\n",
    "A = sparse.lil_matrix((N,N))\n",
    "A.setdiag(2.*n_.ones(N))\n",
    "A.setdiag(-1.*n_.ones(N),1)\n",
    "A.setdiag(-1.*n_.ones(N),-1)\n",
    "# make it circulant so eigenvectors will be perfect\n",
    "if True:\n",
    "    A[0,-1] = -1.\n",
    "    A[N-1,0] = -1.\n",
    "A = A * 0.5"
   ]
  },
  {
   "cell_type": "markdown",
   "metadata": {},
   "source": [
    "### calculate eigenvalues L, eigenvectors U"
   ]
  },
  {
   "cell_type": "code",
   "execution_count": 3,
   "metadata": {},
   "outputs": [
    {
     "name": "stdout",
     "output_type": "stream",
     "text": [
      "(50,) (50, 50)\n",
      "[0.00 0.01 0.01 0.03 0.03 0.07 0.07 0.12 0.12 0.19 0.19 0.27 0.27 0.36 0.36\n",
      " 0.46 0.46 0.57 0.57 0.69 0.69 0.81 0.81 0.94 0.94 1.06 1.06 1.19 1.19 1.31\n",
      " 1.31 1.43 1.43 1.54 1.54 1.64 1.64 1.73 1.73 1.81 1.81 1.88 1.88 1.93 1.93\n",
      " 1.97 1.97 1.99 1.99 2.00]\n"
     ]
    }
   ],
   "source": [
    "# calculate eigenvalues L, eigenvectors U\n",
    "# weird, eigsh says it cannot calculate all eigenvalues\n",
    "#L, U = sl.eigsh(A)\n",
    "#print(n_.sort(L))\n",
    "AD = A.todense()   # lazy to figure out, use dense instead\n",
    "L, U = n_.linalg.eigh(AD)\n",
    "print(L.shape, U.shape)\n",
    "print(L)\n",
    "#print(n_.sort(L))"
   ]
  },
  {
   "cell_type": "markdown",
   "metadata": {},
   "source": [
    "### plot"
   ]
  },
  {
   "cell_type": "code",
   "execution_count": 4,
   "metadata": {
    "scrolled": true
   },
   "outputs": [
    {
     "data": {
      "image/png": "[encoded data removed]",
      "text/plain": [
       "<matplotlib.figure.Figure at 0x1113462b0>"
      ]
     },
     "metadata": {},
     "output_type": "display_data"
    }
   ],
   "source": [
    "Subplotoff = 1\n",
    "Npx = 1\n",
    "Npy = 9\n",
    "def nextplot(L,U,ie):\n",
    "    global Subplotoff\n",
    "    #plt = frame.add_subplot(Npy,Npx,Subplotoff)\n",
    "    plt = p_.subplot(Npy,Npx,Subplotoff)\n",
    "    plt.axes.get_yaxis().set_ticks([])\n",
    "    plt.axes.set_ylim(-0.5,0.5)\n",
    "    plt.plot(U[:,ie])\n",
    "    plt.axes.set_ylabel('%.2f' % L[ie])\n",
    "    Subplotoff = Subplotoff + 1\n",
    "\n",
    "frame = p_.figure()\n",
    "frame.set_size_inches(8,8)\n",
    "for ie in range(9):\n",
    "    nextplot(L,U,ie)\n",
    "p_.show()"
   ]
  },
  {
   "cell_type": "markdown",
   "metadata": {},
   "source": [
    "### Fourier-like operations on meshes:"
   ]
  },
  {
   "cell_type": "markdown",
   "metadata": {},
   "source": [
    "### Graph Laplacian\n",
    "- $A$: symmetric \"adjacency\" matrix, e.g. $A_{ij}=1$ if edge, else 0.\n",
    "- $D$: diagonal \"degree\" matrix, row sum of $A$, counts vertex degree.\n",
    "- $L = D - A$\n",
    "\n",
    "\n",
    "- symmetric, so eigenvectors are an orthogonal basis\n",
    "- first eigenvalue is zero (c.f. constant of integration)"
   ]
  },
  {
   "cell_type": "markdown",
   "metadata": {},
   "source": [
    "### chladni - eigs of biharmonic\n",
    "\n",
    "biharmonic:  $L^2$\n",
    "\n",
    "![chladni - biharmonic (Gander/Wanner)](FourierSpectralMeshFigs/chladni_ganderWanner.png \"Chaldni - eigs of biharmonic\")\n",
    "\n",
    "Gander/Wanner"
   ]
  },
  {
   "cell_type": "markdown",
   "metadata": {},
   "source": [
    "### caricature (boost mid freqs e.g.)\n",
    "![boost mid or low freqs](FourierSpectralMeshFigs/eigdinocaricature.png \"caricature\")"
   ]
  },
  {
   "cell_type": "markdown",
   "metadata": {},
   "source": [
    "### horse harmonics\n",
    "![horse harmonics](FourierSpectralMeshFigs/eigHorses.png \"harmonics\")"
   ]
  },
  {
   "cell_type": "markdown",
   "metadata": {},
   "source": [
    "### fourier approximation\n",
    "![fourier approximation](FourierSpectralMeshFigs/eigHorseShape3.png \"approx\")\n",
    "![fourier approximation](FourierSpectralMeshFigs/eigHorseShapes2.png \"approx\")"
   ]
  },
  {
   "cell_type": "markdown",
   "metadata": {},
   "source": [
    "### why Laplacian\n",
    "- The manifold laplacian is \"intrinsic\", and is the simplest thing that requires (is determined by) a metric.  \n",
    "- The first derivative can be made to vanish at any particular point by a change of coordinates. Manifold laplacian does not depend on coordinates\n",
    "- Manifold laplacian != graph laplacian BUT graph laplacian proved to converge to manifold laplacian with particular choice of adjacency"
   ]
  },
  {
   "cell_type": "markdown",
   "metadata": {
    "collapsed": true
   },
   "source": [
    "### Other applications\n",
    "\n",
    "- spectral embedding, isometric matching\n"
   ]
  },
  {
   "cell_type": "code",
   "execution_count": null,
   "metadata": {
    "collapsed": true
   },
   "outputs": [],
   "source": []
  }
 ],
 "metadata": {
  "kernelspec": {
   "display_name": "Python 3",
   "language": "python",
   "name": "python3"
  },
  "language_info": {
   "codemirror_mode": {
    "name": "ipython",
    "version": 3
   },
   "file_extension": ".py",
   "mimetype": "text/x-python",
   "name": "python",
   "nbconvert_exporter": "python",
   "pygments_lexer": "ipython3",
   "version": "3.6.3"
  }
 },
 "nbformat": 4,
 "nbformat_minor": 2
}
